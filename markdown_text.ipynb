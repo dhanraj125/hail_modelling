{
 "cells": [
  {
   "cell_type": "markdown",
   "id": "24b8361c",
   "metadata": {},
   "source": [
    "# Heading\n",
    "## Heading2\n",
    "### Heading3\n",
    "#### Heading4\n",
    "##### Heading5\n",
    "* Hello\n",
    "* hey-----\n",
    "\n",
    "Just the text\n",
    "ehfubw ayuef n\n",
    "1. fecbH\n",
    "2. f HB\n",
    "\n",
    "\n",
    "*These are italicized words, not a bullet list*\n",
    "**These are bold words, not a bullet list**\n",
    "\n",
    "* **This is a bullet item with bold words**\n",
    "* *This is a bullet item with italicized words*\n",
    "\n",
    "`some code`\n",
    "\n",
    "\n",
    "`Here is some code!`\n",
    "\n",
    "\n",
    "***\n",
    "\n",
    "# Here is some important text!\n",
    "\n",
    "***\n",
    "\n",
    "\n",
    "<a href=\"http://earthdatascience.org/\" target=\"_blank\">earthdatascience</a>\n",
    "\n",
    "\n",
    "![Markdown Logo is here.](https://www.fullstackpython.com/img/logos/markdown.png)\n",
    "\n",
    "\n",
    "![heat load index](head_load_index.png)"
   ]
  },
  {
   "cell_type": "code",
   "execution_count": null,
   "id": "d3681eef",
   "metadata": {},
   "outputs": [],
   "source": [
    "# Create a map or plot with two data layers\n",
    "f, ax1 = plt.subplots(figsize=(10, 6))\n",
    "coastlines.plot(ax=ax1,\n",
    "                color=\"black\")\n",
    "cities.plot(ax=ax1)\n",
    "\n",
    "# Add a title\n",
    "ax1.set(title=\"Map of Cities and Global Lines\")\n",
    "plt.show()\n"
   ]
  }
 ],
 "metadata": {
  "kernelspec": {
   "display_name": "Python 3 (ipykernel)",
   "language": "python",
   "name": "python3"
  },
  "language_info": {
   "codemirror_mode": {
    "name": "ipython",
    "version": 3
   },
   "file_extension": ".py",
   "mimetype": "text/x-python",
   "name": "python",
   "nbconvert_exporter": "python",
   "pygments_lexer": "ipython3",
   "version": "3.9.7"
  }
 },
 "nbformat": 4,
 "nbformat_minor": 5
}
